{
 "cells": [
  {
   "cell_type": "code",
   "execution_count": null,
   "id": "c9b38cdb-ec85-4860-8388-f6e0734f9e31",
   "metadata": {},
   "outputs": [],
   "source": [
    "import matplotlib.pyplot as plt\n",
    "import numpy as np"
   ]
  },
  {
   "cell_type": "code",
   "execution_count": null,
   "id": "412b33ab-169a-4cb1-b61b-65ea33155351",
   "metadata": {},
   "outputs": [],
   "source": [
    "#set a random number seed\n",
    "np.random.seed(119)\n",
    "\n",
    "#set number of data points\n",
    "npoints = 50\n",
    "\n",
    "#set x\n",
    "x = np.linspace(0, 10., npoints)\n",
    "\n",
    "#set slope, intercept, and scatter rms\n",
    "m = 2.0\n",
    "b = 1.0\n",
    "sigma = 2.0\n",
    "\n",
    "#generate y points\n",
    "y = m*x + b + np.random.normal(scale=sigma, size=npoints)\n",
    "y_err = np.full(npoints, sigma)"
   ]
  },
  {
   "cell_type": "code",
   "execution_count": null,
   "id": "cbf09455-732b-4ad6-b092-029c5fa89176",
   "metadata": {},
   "outputs": [],
   "source": [
    "f = plt.figure(figsize = (7,7))\n",
    "plt.errorbar(x, y, sigma, fmt='o')\n",
    "plt.xlabel('x')\n",
    "plt.ylabel('y')"
   ]
  },
  {
   "cell_type": "code",
   "execution_count": null,
   "id": "7a5f2555-ddee-4551-a30c-4ed45a384b4e",
   "metadata": {},
   "outputs": [],
   "source": [
    "#method 1, polyfit()\n",
    "\n",
    "#weight with uncertainties\n",
    "m_fit, b_fit = np.poly1d(np.polyfit(x,y,1,w=1./y_err))   #poly[one]d\n",
    "print(m_fit, b_fit)\n",
    "\n",
    "y_fit = m_fit * x + b_fit"
   ]
  },
  {
   "cell_type": "code",
   "execution_count": null,
   "id": "c0ade34a-05af-4569-8cea-7677eaf120e3",
   "metadata": {},
   "outputs": [],
   "source": [
    "f = plt.figure(figsize=(7,7))\n",
    "plt.errorbar(x, y, yerr=y_err, fmt='o', label='data')\n",
    "plt.plot(x,y_fit,label='fit')\n",
    "plt.xlabel('x')\n",
    "plt.ylabel('y')\n",
    "plt.legend(loc=2,frameon=False)"
   ]
  },
  {
   "cell_type": "markdown",
   "id": "aea44ce2-5a66-42e0-9603-24d1c357bd1b",
   "metadata": {},
   "source": [
    "# Curve Fitting, executing more complicated fits"
   ]
  },
  {
   "cell_type": "code",
   "execution_count": null,
   "id": "e63bc6f6-d449-4897-ba5f-354ef06632ba",
   "metadata": {},
   "outputs": [],
   "source": [
    "#redefine x and y\n",
    "npoints = 50\n",
    "x = np.linspace(0., 2*np.pi, npoints)\n",
    "\n",
    "#make y a complicated function\n",
    "a = 3.4   #amplitude\n",
    "b = 2.1    #frequency\n",
    "c = 0.27   #phase shift\n",
    "d = -1.3\n",
    "sig = 0.6\n",
    "\n",
    "y = a*np.sin(b*x + c) + d + np.random.normal(scale=sig, size=npoints)\n",
    "y_err = np.full(npoints, sig)\n",
    "\n",
    "f = plt.figure(figsize=(7,7))\n",
    "plt.errorbar(x, y, yerr=y_err, fmt='o')\n",
    "plt.xlabel('x')\n",
    "plt.ylabel('y')"
   ]
  },
  {
   "cell_type": "code",
   "execution_count": null,
   "id": "a2406b94-fd48-4b32-8160-81c10bb4c7a6",
   "metadata": {},
   "outputs": [],
   "source": [
    "#import optimize from scipy\n",
    "from scipy import optimize\n",
    "\n",
    "#define the function to fit\n",
    "def f_line(x, a, b, c, d):\n",
    "    return a * np.sin(b*x + c) + d\n",
    "\n",
    "#perform the fit\n",
    "params, params_cov = optimize.curve_fit(f_line, x, y, sigma=y_err, p0=[1,2,0.1,-0.1])\n",
    "\n",
    "a_fit = params[0]\n",
    "b_fit = params[1]\n",
    "c_fit = params[2]\n",
    "d_fit = params[3]\n",
    "\n",
    "print(a_fit, b_fit, c_fit, d_fit)\n",
    "\n",
    "y_fit = a_fit * np.sin(b_fit*x + c_fit) + d_fit"
   ]
  },
  {
   "cell_type": "code",
   "execution_count": null,
   "id": "cbb2333c-e8ed-42e5-ba59-af9eb1e40c03",
   "metadata": {},
   "outputs": [],
   "source": [
    "#plot the fit\n",
    "\n",
    "f = plt.figure(figsize=(7,7))\n",
    "plt.errorbar(x, y, yerr=y_err, fmt='o', label='data')\n",
    "plt.plot(x, y_fit, label='fit')\n",
    "plt.xlabel('x')\n",
    "plt.ylabel('y')\n",
    "plt.legend(loc=0, frameon=False)"
   ]
  },
  {
   "cell_type": "code",
   "execution_count": null,
   "id": "0d0c6239-ade3-4cf7-95c5-93165e78edd4",
   "metadata": {},
   "outputs": [],
   "source": []
  }
 ],
 "metadata": {
  "kernelspec": {
   "display_name": "Python 3 (ipykernel)",
   "language": "python",
   "name": "python3"
  },
  "language_info": {
   "codemirror_mode": {
    "name": "ipython",
    "version": 3
   },
   "file_extension": ".py",
   "mimetype": "text/x-python",
   "name": "python",
   "nbconvert_exporter": "python",
   "pygments_lexer": "ipython3",
   "version": "3.11.5"
  }
 },
 "nbformat": 4,
 "nbformat_minor": 5
}
