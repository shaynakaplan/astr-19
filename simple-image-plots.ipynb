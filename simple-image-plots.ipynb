{
 "cells": [
  {
   "cell_type": "code",
   "execution_count": null,
   "id": "cc43db1c-2773-46d9-9fc9-8adc4d4261e9",
   "metadata": {},
   "outputs": [],
   "source": [
    "import matplotlib.pyplot as plt\n",
    "import numpy as np\n",
    "from matplotlib import cm"
   ]
  },
  {
   "cell_type": "code",
   "execution_count": null,
   "id": "a90a8662-c563-48c0-bf94-b1b7a3335651",
   "metadata": {},
   "outputs": [],
   "source": [
    "fig = plt.figure(figsize =(7,7))    #7x7 image\n",
    "ax = fig.add_subplot(111)           #single cubplot\n",
    "x = np.linspace(0,1*np.pi, 200)     #x=[0, π] in 200 steps\n",
    "y = np.linspace(0,2*np.pi, 200)     #y=[0,2π] in 200 steps\n",
    "x, y = np.meshgrid(x, y)            #create all combos of x,y on a grid\n",
    "z = -np.sin(x)*np.sin(y)           #z=-sinxsiny on a grid\n",
    "ax = plt.imshow(z, cmap=cm.turbo, origin='lower')    #show the image\n",
    "cbar=fig.colorbar(ax)      #create a color bar\n",
    "cbar.ax.get_yaxis().labelpad=15     #add some space between #s and label\n",
    "cbar.ax.set_ylabel('z value', rotation=270)    #write down instead of up\n",
    "plt.xlabel('x label')    #add an x label\n",
    "plt.ylabel('y label')    # add a ylabel\n",
    "plt.savefig('image-plot.png', bbox_inches='tight',facecolor='white')  #save the plot"
   ]
  },
  {
   "cell_type": "code",
   "execution_count": null,
   "id": "fd8c7c29-7593-4c48-9d64-5957b00726ce",
   "metadata": {},
   "outputs": [],
   "source": []
  }
 ],
 "metadata": {
  "kernelspec": {
   "display_name": "Python 3 (ipykernel)",
   "language": "python",
   "name": "python3"
  },
  "language_info": {
   "codemirror_mode": {
    "name": "ipython",
    "version": 3
   },
   "file_extension": ".py",
   "mimetype": "text/x-python",
   "name": "python",
   "nbconvert_exporter": "python",
   "pygments_lexer": "ipython3",
   "version": "3.11.5"
  }
 },
 "nbformat": 4,
 "nbformat_minor": 5
}
