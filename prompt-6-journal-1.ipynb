{
 "cells": [
  {
   "cell_type": "markdown",
   "id": "103354d4-6379-4d1e-92dd-a6db061669a7",
   "metadata": {},
   "source": [
    "This notebook will create a table of sine and cosine versus x."
   ]
  },
  {
   "cell_type": "code",
   "execution_count": 3,
   "id": "0c2ba183-c7f2-4831-bff8-528e271696a4",
   "metadata": {},
   "outputs": [],
   "source": [
    "import numpy as np"
   ]
  },
  {
   "cell_type": "markdown",
   "id": "e2576208-c6bb-4944-bcb3-cb2dd90294ae",
   "metadata": {},
   "source": [
    "This function returns sin(x)."
   ]
  },
  {
   "cell_type": "code",
   "execution_count": null,
   "id": "05b1b35d-1390-42e0-8a4f-0f380ee13555",
   "metadata": {},
   "outputs": [],
   "source": [
    "def sinx():\n",
    "    return np.sin(x)"
   ]
  },
  {
   "cell_type": "markdown",
   "id": "8dde546d-1b5c-4043-a1ee-c8e72a87c29c",
   "metadata": {},
   "source": [
    "This function returns cos(x)."
   ]
  },
  {
   "cell_type": "code",
   "execution_count": null,
   "id": "9225689c-cfac-41bb-8fec-ab0a7eb0e7df",
   "metadata": {},
   "outputs": [],
   "source": [
    "def cosx():\n",
    "    return np.cos(x)"
   ]
  },
  {
   "cell_type": "markdown",
   "id": "4a0dda9f-dd35-4831-b6d9-3067f21c7b9c",
   "metadata": {},
   "source": [
    "Creating a table of x versus sin(x) and cos(x), where the first 10 values are printed"
   ]
  },
  {
   "cell_type": "code",
   "execution_count": 11,
   "id": "51c24ef3-b723-4acb-9ba8-5003a08715f8",
   "metadata": {},
   "outputs": [
    {
     "name": "stdout",
     "output_type": "stream",
     "text": [
      "x     | sin(x)| cos(x)\n",
      "----------------------\n",
      "0.000 | 0.000 | 1.000\n",
      "0.006 | 0.006 | 1.000\n",
      "0.013 | 0.013 | 1.000\n",
      "0.019 | 0.019 | 1.000\n",
      "0.025 | 0.025 | 1.000\n",
      "0.031 | 0.031 | 1.000\n",
      "0.038 | 0.038 | 0.999\n",
      "0.044 | 0.044 | 0.999\n",
      "0.050 | 0.050 | 0.999\n",
      "0.057 | 0.057 | 0.998\n"
     ]
    }
   ],
   "source": [
    "x = np.linspace(0, 2*np.pi, num=1000)\n",
    "print(\"x     | sin(x)| cos(x)\")\n",
    "print(\"----------------------\")\n",
    "for i in range(10):\n",
    "    print(f\"{x[i]:.3f} | {sinx[i]:.3f} | {cosx[i]:.3f}\")"
   ]
  },
  {
   "cell_type": "code",
   "execution_count": null,
   "id": "8f554a02-64c3-4dbf-86cd-b2b8c275db0c",
   "metadata": {},
   "outputs": [],
   "source": []
  }
 ],
 "metadata": {
  "kernelspec": {
   "display_name": "Python 3 (ipykernel)",
   "language": "python",
   "name": "python3"
  },
  "language_info": {
   "codemirror_mode": {
    "name": "ipython",
    "version": 3
   },
   "file_extension": ".py",
   "mimetype": "text/x-python",
   "name": "python",
   "nbconvert_exporter": "python",
   "pygments_lexer": "ipython3",
   "version": "3.11.5"
  }
 },
 "nbformat": 4,
 "nbformat_minor": 5
}
