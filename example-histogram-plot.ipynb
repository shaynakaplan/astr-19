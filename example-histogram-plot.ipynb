{
 "cells": [
  {
   "cell_type": "code",
   "execution_count": null,
   "id": "098439bf-24bd-4ec2-b426-094395d3e1da",
   "metadata": {},
   "outputs": [],
   "source": [
    "import matplotlib.pyplot as plt\n",
    "import numpy as np"
   ]
  },
  {
   "cell_type": "code",
   "execution_count": null,
   "id": "18172b70-3486-4409-ac96-7bd01364943e",
   "metadata": {},
   "outputs": [],
   "source": [
    "#create some random data\n",
    "n = 500     #number of random data points to generat\n",
    "x = np.random.randn(n)    #generate random data\n",
    "\n",
    "#create the histogram bins\n",
    "width = 0.5\n",
    "histmin = np.floor(min(x))          #rounds down\n",
    "histmax = np.ceil(max(x) + width)   #rounds up\n",
    "\n",
    "bins = np.arange(histmin, histmax, width)\n",
    "plt.hist(x, bins=bins, alpha=0.5, edgecolor='black')    #makes and plots the histogram\n",
    "plt.ylabel(\"N per bin\")\n",
    "plt.xlabel('x')\n",
    "plt.savefig('example-histogram.png', bbox_inches='tight', facecolor='white')"
   ]
  },
  {
   "cell_type": "code",
   "execution_count": null,
   "id": "07046b47-ada4-4139-b0e6-6861c100ebf8",
   "metadata": {},
   "outputs": [],
   "source": []
  }
 ],
 "metadata": {
  "kernelspec": {
   "display_name": "Python 3 (ipykernel)",
   "language": "python",
   "name": "python3"
  },
  "language_info": {
   "codemirror_mode": {
    "name": "ipython",
    "version": 3
   },
   "file_extension": ".py",
   "mimetype": "text/x-python",
   "name": "python",
   "nbconvert_exporter": "python",
   "pygments_lexer": "ipython3",
   "version": "3.11.5"
  }
 },
 "nbformat": 4,
 "nbformat_minor": 5
}
