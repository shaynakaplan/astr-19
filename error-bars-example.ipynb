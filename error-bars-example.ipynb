{
 "cells": [
  {
   "cell_type": "code",
   "execution_count": null,
   "id": "f40f8ade-0935-4c91-9f88-7142cfbccf51",
   "metadata": {},
   "outputs": [],
   "source": [
    "import numpy as np\n",
    "import matplotlib.pyplot as plt"
   ]
  },
  {
   "cell_type": "code",
   "execution_count": null,
   "id": "94707755-3cf2-44ca-b109-dd37c4b3a492",
   "metadata": {},
   "outputs": [],
   "source": [
    "#errorbar example\n",
    "#generate some fake data\n",
    "x = np.arange(10) + 2*np.random.randn(10)\n",
    "y = np.arange(10) + 2*np.random.randn(10)\n",
    "\n",
    "#generate fake errors for the data\n",
    "xerr = 2*np.random.random(10)\n",
    "yerr = 2*np.random.random(10)\n",
    "\n",
    "#insert axis labels...\n",
    "\n",
    "plt.errorbar(x, y, xerr=xerr, yerr=yerr, fmt='bo')\n",
    "plt.savefig('error-bar-example.png', bbox_inches='tight', facecolor='pink')"
   ]
  },
  {
   "cell_type": "code",
   "execution_count": null,
   "id": "f08f473d-7784-4ffd-aff9-f12b0d55ab50",
   "metadata": {},
   "outputs": [],
   "source": []
  }
 ],
 "metadata": {
  "kernelspec": {
   "display_name": "Python 3 (ipykernel)",
   "language": "python",
   "name": "python3"
  },
  "language_info": {
   "codemirror_mode": {
    "name": "ipython",
    "version": 3
   },
   "file_extension": ".py",
   "mimetype": "text/x-python",
   "name": "python",
   "nbconvert_exporter": "python",
   "pygments_lexer": "ipython3",
   "version": "3.11.5"
  }
 },
 "nbformat": 4,
 "nbformat_minor": 5
}
