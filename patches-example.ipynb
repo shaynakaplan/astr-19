{
 "cells": [
  {
   "cell_type": "code",
   "execution_count": null,
   "id": "e4b3043d-9719-4a19-bf9f-25f4b4c049fe",
   "metadata": {},
   "outputs": [],
   "source": [
    "%matplotlib inline\n",
    "import matplotlib.pyplot as plt\n",
    "from matplotlib import patches"
   ]
  },
  {
   "cell_type": "code",
   "execution_count": null,
   "id": "af3101e1-ffe6-4e28-b6fe-f6364e6b05cd",
   "metadata": {},
   "outputs": [],
   "source": [
    "#create a figure\n",
    "f = plt.figure(figsize=(6,6))\n",
    "\n",
    "#add a single subplit to the figure\n",
    "#with empty x and y ticklabels\n",
    "ax = f.add_subplot(111, xticks=[], yticks=[])\n",
    "\n",
    "#set the limits to x and y axes\n",
    "ax.set_xlim([0,1])\n",
    "ax.set_ylim([0,1])\n",
    "\n",
    "#create a blue rectangle\n",
    "rectangle = patches.Rectangle((0.05,0.05), 0.4,0.4, edgecolor='None', facecolor='blue', alpha=0.5)\n",
    "ax.add_patch(rectangle)\n",
    "\n",
    "#create a red cirle\n",
    "circle = patches.Circle((0.6,0.6),0.3,edgecolor='None', facecolor='red', alpha=0.5)\n",
    "ax.add_patch(circle)\n",
    "\n",
    "#create a green ellipse\n",
    "ellipse = patches.Ellipse((0.8,0.8),0.3,0.4,edgecolor='None', facecolor='green',alpha=0.5)\n",
    "ax.add_patch(ellipse)"
   ]
  },
  {
   "cell_type": "code",
   "execution_count": null,
   "id": "e259ca58-1b9a-4b9e-ba51-5b07a2b066d6",
   "metadata": {},
   "outputs": [],
   "source": []
  }
 ],
 "metadata": {
  "kernelspec": {
   "display_name": "Python 3 (ipykernel)",
   "language": "python",
   "name": "python3"
  },
  "language_info": {
   "codemirror_mode": {
    "name": "ipython",
    "version": 3
   },
   "file_extension": ".py",
   "mimetype": "text/x-python",
   "name": "python",
   "nbconvert_exporter": "python",
   "pygments_lexer": "ipython3",
   "version": "3.11.5"
  }
 },
 "nbformat": 4,
 "nbformat_minor": 5
}
