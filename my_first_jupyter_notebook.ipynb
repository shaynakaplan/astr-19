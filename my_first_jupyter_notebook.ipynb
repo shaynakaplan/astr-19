{
 "cells": [
  {
   "cell_type": "code",
   "execution_count": 8,
   "id": "e769b582-0424-4ffe-ac9f-22bf021e1bf3",
   "metadata": {},
   "outputs": [],
   "source": [
    "import numpy as np"
   ]
  },
  {
   "cell_type": "code",
   "execution_count": 9,
   "id": "40897b81-8de8-4998-bed9-d1dd70f421ee",
   "metadata": {},
   "outputs": [],
   "source": [
    "n = 10                             #define an integer 10\n",
    "x = np.arange(n, dtype = float)    #define an array x=[0,9]"
   ]
  },
  {
   "cell_type": "code",
   "execution_count": 10,
   "id": "1f2a1260-7274-43a8-beda-dbb1bb2766b7",
   "metadata": {},
   "outputs": [
    {
     "name": "stdout",
     "output_type": "stream",
     "text": [
      "[0. 1. 2. 3. 4. 5. 6. 7. 8. 9.]\n"
     ]
    }
   ],
   "source": [
    "print(x)"
   ]
  }
 ],
 "metadata": {
  "kernelspec": {
   "display_name": "Python 3 (ipykernel)",
   "language": "python",
   "name": "python3"
  },
  "language_info": {
   "codemirror_mode": {
    "name": "ipython",
    "version": 3
   },
   "file_extension": ".py",
   "mimetype": "text/x-python",
   "name": "python",
   "nbconvert_exporter": "python",
   "pygments_lexer": "ipython3",
   "version": "3.11.5"
  }
 },
 "nbformat": 4,
 "nbformat_minor": 5
}
