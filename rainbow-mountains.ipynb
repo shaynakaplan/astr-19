{
 "cells": [
  {
   "cell_type": "code",
   "execution_count": null,
   "id": "5d2d9a95-2e2e-4749-b40e-49079c42aa0c",
   "metadata": {},
   "outputs": [],
   "source": [
    "%matplotlib inline\n",
    "import matplotlib.pyplot as plt\n",
    "import matplotlib.cm as cm\n",
    "import numpy as np"
   ]
  },
  {
   "cell_type": "code",
   "execution_count": null,
   "id": "dcddbd06-32cf-4dac-87c1-c632f3190e07",
   "metadata": {},
   "outputs": [],
   "source": [
    "#create a figure\n",
    "f = plt.figure(figsize=(5,10))\n",
    "\n",
    "#get the turbo color map\n",
    "cmap_turbo = cm.get_cmap('turbo')\n",
    "\n",
    "#add a single subplot to the figure with empty\n",
    "#x and y ticklabels and no axes shown\n",
    "ax = f.add_subplot(111, xticks=[], yticks=[])\n",
    "ax.set_axis_off()\n",
    "\n",
    "#set the limits to x and y axes\n",
    "ax.set_xlim([0, 2*np.pi])\n",
    "ax.set_ylim([0, 15.])\n",
    "\n",
    "#create an x arrange [0, 2π]\n",
    "x = np.linspace(0, 2*np.pi, 100)\n",
    "\n",
    "#set the number of mountain ranges\n",
    "nmr = 10\n",
    "#set the number of peaks in each range\n",
    "npeak = 10\n",
    "\n",
    "#loop over mountain ranges\n",
    "for i in range(nmr):\n",
    "    #set color of this mtn range by providing a number [0,1]\n",
    "    mr_color = cmap_turbo(float(i)/float(npeak))\n",
    "\n",
    "    #create a randomized set of frequencies\n",
    "    freq = 3.0*np.random.rand(npeak) + 1.0\n",
    "\n",
    "    #create a randomized set of phase shifts\n",
    "    phi = 2.0*np.pi*np.random.rand(npeak)\n",
    "\n",
    "    #create a randomized amplitude\n",
    "    amp = 1.*np.random.rand(npeak) + 0.1\n",
    "\n",
    "    #set a y offset, so each range is offset along y direction\n",
    "    yoff = 1.*float(i)\n",
    "\n",
    "    #create the mountain range\n",
    "    y = np.zeros_like(x)\n",
    "\n",
    "    #for every peak\n",
    "    for j in range(npeak):\n",
    "        #add this peak as a sine curve with a random\n",
    "        #amplitude, frequency, and phase\n",
    "        y += amp[j]*np.sin(freq[j]*x + phi[j])\n",
    "    \n",
    "    #take the absolute value of the sin curve and add the offset\n",
    "    y = np.fabs(y) + yoff\n",
    "    \n",
    "    #plot random mountain range\n",
    "    plt.fill_between(x, y, yoff, zorder=nmr-i, color=mr_color, cmap='turbo')\n",
    "\n",
    "#save the figure\n",
    "plt.savefig('mountain-range.png', bbox_inches='tight', pad_inches=0, dpi=600)"
   ]
  },
  {
   "cell_type": "code",
   "execution_count": null,
   "id": "ff768880-a22e-4242-a2e7-2ccd28d0eade",
   "metadata": {},
   "outputs": [],
   "source": []
  }
 ],
 "metadata": {
  "kernelspec": {
   "display_name": "Python 3 (ipykernel)",
   "language": "python",
   "name": "python3"
  },
  "language_info": {
   "codemirror_mode": {
    "name": "ipython",
    "version": 3
   },
   "file_extension": ".py",
   "mimetype": "text/x-python",
   "name": "python",
   "nbconvert_exporter": "python",
   "pygments_lexer": "ipython3",
   "version": "3.11.5"
  }
 },
 "nbformat": 4,
 "nbformat_minor": 5
}
