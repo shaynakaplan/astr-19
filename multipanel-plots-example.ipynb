{
 "cells": [
  {
   "cell_type": "markdown",
   "id": "ea08d61a-43c3-48db-81d4-1d8426a51076",
   "metadata": {},
   "source": [
    "#Making Multipanel Plots"
   ]
  },
  {
   "cell_type": "code",
   "execution_count": null,
   "id": "e8c30835-2a9e-43a9-8c7d-c6666e960cd5",
   "metadata": {},
   "outputs": [],
   "source": [
    "%matplotlib inline\n",
    "import numpy as np\n",
    "import matplotlib.pyplot as plt"
   ]
  },
  {
   "cell_type": "markdown",
   "id": "f2f6b884-4aa0-41f9-b051-c89cde52ba09",
   "metadata": {},
   "source": [
    "define an array of angles and their sines/cosines using numpy. this time using linspace"
   ]
  },
  {
   "cell_type": "code",
   "execution_count": null,
   "id": "862b1f65-0d49-4344-af8a-99f70c15c3f8",
   "metadata": {},
   "outputs": [],
   "source": [
    "x = np.linspace(0, 2*np.pi, 100)\n",
    "print(x[-1], 2*np.pi)\n",
    "\n",
    "y = np.sin(x)\n",
    "z = np.cos(x)\n",
    "w = np.sin(4*x)\n",
    "v = np.cos(4*x)"
   ]
  },
  {
   "cell_type": "markdown",
   "id": "9955b10e-df6a-41a3-a48b-5ef07f4d3ae2",
   "metadata": {},
   "source": [
    "making a 2 panel plot side-by-side"
   ]
  },
  {
   "cell_type": "code",
   "execution_count": null,
   "id": "531ca136-c8f9-4080-b212-c08a96618426",
   "metadata": {},
   "outputs": [],
   "source": [
    "#call subplots to generate a multipanel figure; 1 row, 2 col of figs\n",
    "f, axarr = plt.subplots(1,2)\n",
    "\n",
    "#treat axarr as an array, from left to right (an array of axes)\n",
    "\n",
    "#first panel\n",
    "axarr[0].plot(x, y)\n",
    "axarr[0].set_xlabel('x')\n",
    "axarr[0].set_ylabel('sin(x)')\n",
    "axarr[0].set_title(r'$\\sin(x)$')\n",
    "#second panel\n",
    "axarr[1].plot(x, z)\n",
    "axarr[1].set_xlabel('x')\n",
    "axarr[1].set_ylabel('cos(x)')\n",
    "axarr[1].set_title(r'$\\cos(x)$')\n",
    "\n",
    "#add more space between the figures\n",
    "f.subplots_adjust(wspace = 0.4)\n",
    "\n",
    "#fix the axis ration\n",
    "#here are 3 possible options\n",
    "#make the ration of the tick units equal, a bit counter intuitive\n",
    "axarr[0].set_aspect('equal')\n",
    "#make a square by setting the aspect to be the ratio of the tick unit range\n",
    "axarr[1].set_aspect(np.pi)\n",
    "\n"
   ]
  },
  {
   "cell_type": "code",
   "execution_count": null,
   "id": "d7f2162c-09c7-4ff2-bee0-77a04f15405f",
   "metadata": {},
   "outputs": [],
   "source": [
    "#adjust the size of the figure\n",
    "fig = plt.figure(figsize=(6,6))\n",
    "\n",
    "plt.plot(x, y, label=r'$y=\\sin(x)$')\n",
    "plt.plot(x, z, label=r'$y=\\cos(x)$')\n",
    "plt.plot(x, w, label=r'$y=\\sin(4x)$')\n",
    "plt.plot(x, v, label=r'$y=\\cos(4x)$')\n",
    "\n",
    "plt.xlabel(r'$x$')\n",
    "plt.ylabel(r'$y(x)$')\n",
    "plt.xlim(0,2*np.pi)\n",
    "plt.ylim([-1.2, 1.2])\n",
    "plt.legend(loc=1, framealpha=0.95)\n",
    "\n",
    "#fix the axis ratio\n",
    "plt.gca().set_aspect(np.pi/1.2)"
   ]
  },
  {
   "cell_type": "code",
   "execution_count": null,
   "id": "d6cce530-8b72-4ceb-9e27-9753a67d3053",
   "metadata": {},
   "outputs": [],
   "source": []
  }
 ],
 "metadata": {
  "kernelspec": {
   "display_name": "Python 3 (ipykernel)",
   "language": "python",
   "name": "python3"
  },
  "language_info": {
   "codemirror_mode": {
    "name": "ipython",
    "version": 3
   },
   "file_extension": ".py",
   "mimetype": "text/x-python",
   "name": "python",
   "nbconvert_exporter": "python",
   "pygments_lexer": "ipython3",
   "version": "3.11.5"
  }
 },
 "nbformat": 4,
 "nbformat_minor": 5
}
