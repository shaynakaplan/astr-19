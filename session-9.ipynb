{
 "cells": [
  {
   "cell_type": "markdown",
   "id": "81bf6c02-a6a7-4c83-ade9-7b788ccff50a",
   "metadata": {},
   "source": [
    "Create a Jupyter notebook, import matplotlib. Use numpy to pull 1000 random numbers distributed uniformly between [0,1]. Histogram the random numbers into 100 bins, and plot the histogram. Label your axes and save the figure as a PDF."
   ]
  },
  {
   "cell_type": "code",
   "execution_count": null,
   "id": "bbdba666-dda4-4bce-ae3a-496b0cc47d28",
   "metadata": {},
   "outputs": [],
   "source": [
    "#import libraries\n",
    "import matplotlib.pyplot as plt\n",
    "import numpy as np"
   ]
  },
  {
   "cell_type": "code",
   "execution_count": null,
   "id": "46647886-b7ae-4649-a06e-4fa817389379",
   "metadata": {},
   "outputs": [],
   "source": [
    "#generating random numbers\n",
    "n = 1000   \n",
    "x = np.random.uniform(0, 1, n)    \n",
    "\n",
    "#create the histogram bins\n",
    "width = 0.5\n",
    "histmin = np.floor(min(x)) \n",
    "histmax = np.ceil(max(x) + width)  \n",
    "\n",
    "#plotting the histogram\n",
    "bins = np.arange(histmin, histmax, width)\n",
    "plt.hist(x, bins=100, alpha=0.5, edgecolor='0.5')\n",
    "plt.ylabel(\"N per bin\")\n",
    "plt.xlabel('x')\n",
    "plt.savefig('session-9.pdf', bbox_inches='tight', facecolor='white')"
   ]
  },
  {
   "cell_type": "code",
   "execution_count": null,
   "id": "1b1c6a29-e60d-4ada-9d11-41a54b9d3b7c",
   "metadata": {},
   "outputs": [],
   "source": []
  }
 ],
 "metadata": {
  "kernelspec": {
   "display_name": "Python 3 (ipykernel)",
   "language": "python",
   "name": "python3"
  },
  "language_info": {
   "codemirror_mode": {
    "name": "ipython",
    "version": 3
   },
   "file_extension": ".py",
   "mimetype": "text/x-python",
   "name": "python",
   "nbconvert_exporter": "python",
   "pygments_lexer": "ipython3",
   "version": "3.11.5"
  }
 },
 "nbformat": 4,
 "nbformat_minor": 5
}
